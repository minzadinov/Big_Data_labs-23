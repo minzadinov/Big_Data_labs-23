{
  "cells": [
    {
      "cell_type": "markdown",
      "metadata": {
        "id": "view-in-github"
      },
      "source": [
        "<a href=\"https://colab.research.google.com/drive/1dUUN8StWSvQiVKF_4GzrmVuh6f1EeBCG#scrollTo=8AoNDCXvlgYe\" target=\"_parent\"><img src=\"https://colab.research.google.com/assets/colab-badge.svg\" alt=\"Open In Colab\"/></a>"
      ]
    },
    {
      "cell_type": "markdown",
      "metadata": {
        "id": "8AoNDCXvlgYe"
      },
      "source": [
        "# Минзадинов Ислам гр 6133"
      ]
    },
    {
      "cell_type": "markdown",
      "metadata": {
        "id": "Y-D-bmvPloYX"
      },
      "source": [
        "## Задание на Лабораторную работу №1"
      ]
    },
    {
      "cell_type": "markdown",
      "metadata": {
        "id": "48bAmDWil0TW"
      },
      "source": [
        "### Решите следующие задачи для данных велопарковок Сан-Франциско (trips.csv, stations.csv):\n",
        "1. Найти велосипед с максимальным временем пробега.\n",
        "\n",
        "2. Найти наибольшее геодезическое расстояние между станциями.\n",
        "\n",
        "3. Найти путь велосипеда с максимальным временем пробега через станции.\n",
        "\n",
        "4. Найти количество велосипедов в системе.\n",
        "\n",
        "5. Найти пользователей потративших на поездки более 3 часов."
      ]
    },
    {
      "cell_type": "markdown",
      "metadata": {
        "id": "1J_pxd-rl8G-"
      },
      "source": [
        "### 1. Настройка окружения"
      ]
    },
    {
      "cell_type": "code",
      "execution_count": 2,
      "metadata": {
        "colab": {
          "base_uri": "https://localhost:8080/"
        },
        "id": "I3GF_olsfb8R",
        "outputId": "5aac0983-5bec-4248-adf1-f2f5c761f347"
      },
      "outputs": [
        {
          "name": "stdout",
          "output_type": "stream",
          "text": [
            "Requirement already satisfied: pyspark in /usr/local/lib/python3.10/dist-packages (3.5.0)\n",
            "Requirement already satisfied: py4j==0.10.9.7 in /usr/local/lib/python3.10/dist-packages (from pyspark) (0.10.9.7)\n"
          ]
        }
      ],
      "source": [
        "# установка pyspark\n",
        "!pip install pyspark"
      ]
    },
    {
      "cell_type": "code",
      "execution_count": 3,
      "metadata": {
        "colab": {
          "base_uri": "https://localhost:8080/"
        },
        "id": "5rlX53O2nQpl",
        "outputId": "1df90901-e399-489b-8f16-6f3b0d1059ac"
      },
      "outputs": [
        {
          "name": "stdout",
          "output_type": "stream",
          "text": [
            "Mounted at /content/drive\n"
          ]
        }
      ],
      "source": [
        "# Добавляю гугл диск с данными\n",
        "from google.colab import drive\n",
        "drive.mount('/content/drive')"
      ]
    },
    {
      "cell_type": "code",
      "execution_count": 4,
      "metadata": {
        "id": "1hWEMt_8mMyM"
      },
      "outputs": [],
      "source": [
        "import pyspark\n",
        "from pyspark import SparkContext, SparkConf\n",
        "from typing import NamedTuple\n",
        "from datetime import datetime\n",
        "from functools import reduce"
      ]
    },
    {
      "cell_type": "markdown",
      "metadata": {
        "id": "MJOWdb8amWle"
      },
      "source": [
        "### 2. Создаю проект и проверяю версию, чтобы убедиться в работоспособности"
      ]
    },
    {
      "cell_type": "code",
      "execution_count": 5,
      "metadata": {
        "colab": {
          "base_uri": "https://localhost:8080/",
          "height": 196
        },
        "id": "1mWMD0wrmSXX",
        "outputId": "601229cd-f1ce-4951-e7e3-e90a6441d2a2"
      },
      "outputs": [
        {
          "data": {
            "text/html": [
              "\n",
              "        <div>\n",
              "            <p><b>SparkContext</b></p>\n",
              "\n",
              "            <p><a href=\"http://1952a8620447:4040\">Spark UI</a></p>\n",
              "\n",
              "            <dl>\n",
              "              <dt>Version</dt>\n",
              "                <dd><code>v3.5.0</code></dd>\n",
              "              <dt>Master</dt>\n",
              "                <dd><code>local[*]</code></dd>\n",
              "              <dt>AppName</dt>\n",
              "                <dd><code>L1ItroductionToApacheSpark</code></dd>\n",
              "            </dl>\n",
              "        </div>\n",
              "        "
            ],
            "text/plain": [
              "<SparkContext master=local[*] appName=L1ItroductionToApacheSpark>"
            ]
          },
          "execution_count": 5,
          "metadata": {},
          "output_type": "execute_result"
        }
      ],
      "source": [
        "# Создание точки конфигурации\n",
        "sc = SparkContext(conf=SparkConf().setAppName('L1ItroductionToApacheSpark').setMaster(\"local[*]\"))\n",
        "# Проверка установки\n",
        "sc"
      ]
    },
    {
      "cell_type": "markdown",
      "metadata": {
        "id": "uDFgvHfanITI"
      },
      "source": [
        "### 3. Загрузка данных"
      ]
    },
    {
      "cell_type": "code",
      "execution_count": 6,
      "metadata": {
        "id": "DDH1uwVWmua_"
      },
      "outputs": [],
      "source": [
        "data_trip = sc.textFile(\"/content/drive/MyDrive/BigData/L1/trips.csv\")\n",
        "data_station = sc.textFile(\"/content/drive/MyDrive/BigData/L1/stations.csv\")"
      ]
    },
    {
      "cell_type": "markdown",
      "metadata": {
        "id": "GcHLIz8vn9Rv"
      },
      "source": [
        "### 4. Предобработка данных"
      ]
    },
    {
      "cell_type": "code",
      "execution_count": 7,
      "metadata": {
        "id": "vkU-cHcDn65O"
      },
      "outputs": [],
      "source": [
        "headerOfTrips = data_trip.first()\n",
        "headerOfStations = data_station.first()"
      ]
    },
    {
      "cell_type": "code",
      "execution_count": 8,
      "metadata": {
        "id": "IRCPj1zUocnV"
      },
      "outputs": [],
      "source": [
        "tripsWithOutHeader = data_trip.filter(lambda row: row != headerOfTrips)\n",
        "stationsWithOutHeader = data_station.filter(lambda row: row != headerOfStations)"
      ]
    },
    {
      "cell_type": "code",
      "execution_count": 9,
      "metadata": {
        "colab": {
          "base_uri": "https://localhost:8080/"
        },
        "id": "HZsfb-fCoeJd",
        "outputId": "3e86eb99-63e9-4b12-dd4f-faf9c37b9266"
      },
      "outputs": [
        {
          "data": {
            "text/plain": [
              "['4576,63,,South Van Ness at Market,66,8/29/2013 14:14,South Van Ness at Market,66,520,Subscriber,94127',\n",
              " '4607,,8/29/2013 14:42,San Jose City Hall,10,8/29/2013 14:43,San Jose City Hall,10,661,Subscriber,95138',\n",
              " '4130,71,8/29/2013 10:16,Mountain View City Hall,27,8/29/2013 10:17,Mountain View City Hall,27,48,Subscriber,97214',\n",
              " '4251,77,8/29/2013 11:29,San Jose City Hall,10,8/29/2013 11:30,San Jose City Hall,10,26,Subscriber,95060',\n",
              " '4299,83,8/29/2013 12:02,South Van Ness at Market,66,8/29/2013 12:04,Market at 10th,67,319,Subscriber,94103',\n",
              " '4927,103,8/29/2013 18:54,Golden Gate at Polk,59,8/29/2013 18:56,Golden Gate at Polk,59,527,Subscriber,94109',\n",
              " '4500,109,8/29/2013 13:25,Santa Clara at Almaden,4,8/29/2013 13:27,Adobe on Almaden,5,679,Subscriber,95112',\n",
              " '4563,111,8/29/2013 14:02,San Salvador at 1st,8,8/29/2013 14:04,San Salvador at 1st,8,687,Subscriber,95112',\n",
              " '4760,113,8/29/2013 17:01,South Van Ness at Market,66,8/29/2013 17:03,South Van Ness at Market,66,553,Subscriber,94103',\n",
              " '4258,114,8/29/2013 11:33,San Jose City Hall,10,8/29/2013 11:35,MLK Library,11,107,Subscriber,95060']"
            ]
          },
          "execution_count": 9,
          "metadata": {},
          "output_type": "execute_result"
        }
      ],
      "source": [
        "tripsWithOutHeader.take(10)"
      ]
    },
    {
      "cell_type": "code",
      "execution_count": 10,
      "metadata": {
        "colab": {
          "base_uri": "https://localhost:8080/"
        },
        "id": "lhaRujUvogCc",
        "outputId": "8fd0aabe-1e19-4adb-9174-91d8bc3c7a4f"
      },
      "outputs": [
        {
          "data": {
            "text/plain": [
              "['2,San Jose Diridon Caltrain Station,37.329732,-121.90178200000001,27,San Jose,8/6/2013',\n",
              " '3,San Jose Civic Center,37.330698,-121.888979,15,San Jose,8/5/2013',\n",
              " '4,Santa Clara at Almaden,37.333988,-121.894902,11,San Jose,8/6/2013',\n",
              " '5,Adobe on Almaden,37.331415,-121.8932,19,San Jose,8/5/2013',\n",
              " '6,San Pedro Square,37.336721000000004,-121.894074,15,San Jose,8/7/2013',\n",
              " '7,Paseo de San Antonio,37.333798,-121.88694299999999,15,San Jose,8/7/2013',\n",
              " '8,San Salvador at 1st,37.330165,-121.88583100000001,15,San Jose,8/5/2013',\n",
              " '9,Japantown,37.348742,-121.89471499999999,15,San Jose,8/5/2013',\n",
              " '10,San Jose City Hall,37.337391,-121.886995,15,San Jose,8/6/2013',\n",
              " '11,MLK Library,37.335885,-121.88566000000002,19,San Jose,8/6/2013']"
            ]
          },
          "execution_count": 10,
          "metadata": {},
          "output_type": "execute_result"
        }
      ],
      "source": [
        "stationsWithOutHeader.take(10)"
      ]
    },
    {
      "cell_type": "code",
      "execution_count": 11,
      "metadata": {
        "id": "MzqcVertojya"
      },
      "outputs": [],
      "source": [
        "trip_parametr = list(enumerate(headerOfTrips.split(\",\")))\n",
        "station_parametr = list(enumerate(headerOfStations.split(\",\")))"
      ]
    },
    {
      "cell_type": "code",
      "execution_count": 12,
      "metadata": {
        "id": "aLS2ax5lpWDh"
      },
      "outputs": [],
      "source": [
        "final_trips_data = tripsWithOutHeader.map(lambda x: x.split(','))\n",
        "final_stations_data = stationsWithOutHeader.map(lambda x: x.split(','))"
      ]
    },
    {
      "cell_type": "code",
      "execution_count": 13,
      "metadata": {
        "colab": {
          "base_uri": "https://localhost:8080/"
        },
        "id": "tyWcQ-3rqj4T",
        "outputId": "d9816b8e-322a-4442-b8e6-22384056e173"
      },
      "outputs": [
        {
          "data": {
            "text/plain": [
              "[['4576',\n",
              "  '63',\n",
              "  '',\n",
              "  'South Van Ness at Market',\n",
              "  '66',\n",
              "  '8/29/2013 14:14',\n",
              "  'South Van Ness at Market',\n",
              "  '66',\n",
              "  '520',\n",
              "  'Subscriber',\n",
              "  '94127']]"
            ]
          },
          "execution_count": 13,
          "metadata": {},
          "output_type": "execute_result"
        }
      ],
      "source": [
        "final_trips_data.take(1)"
      ]
    },
    {
      "cell_type": "code",
      "execution_count": 14,
      "metadata": {
        "colab": {
          "base_uri": "https://localhost:8080/"
        },
        "id": "GK5gly4VqlL6",
        "outputId": "c6f55315-4fb3-41a8-f8e7-724f11f2d14f"
      },
      "outputs": [
        {
          "data": {
            "text/plain": [
              "[['2',\n",
              "  'San Jose Diridon Caltrain Station',\n",
              "  '37.329732',\n",
              "  '-121.90178200000001',\n",
              "  '27',\n",
              "  'San Jose',\n",
              "  '8/6/2013']]"
            ]
          },
          "execution_count": 14,
          "metadata": {},
          "output_type": "execute_result"
        }
      ],
      "source": [
        "final_stations_data.take(1)"
      ]
    },
    {
      "cell_type": "markdown",
      "metadata": {
        "id": "1GQeuwsFjyGI"
      },
      "source": [
        "### 3. Разработка и применения модели."
      ]
    },
    {
      "cell_type": "markdown",
      "metadata": {
        "id": "0dk2_NHIpo3L"
      },
      "source": [
        "Модель для trips."
      ]
    },
    {
      "cell_type": "code",
      "execution_count": 15,
      "metadata": {
        "colab": {
          "base_uri": "https://localhost:8080/"
        },
        "id": "frsr1jvvrbW6",
        "outputId": "ddfdccd5-581d-4e20-d0ca-111e686c9378"
      },
      "outputs": [
        {
          "data": {
            "text/plain": [
              "[(0, 'id'),\n",
              " (1, 'duration'),\n",
              " (2, 'start_date'),\n",
              " (3, 'start_station_name'),\n",
              " (4, 'start_station_id'),\n",
              " (5, 'end_date'),\n",
              " (6, 'end_station_name'),\n",
              " (7, 'end_station_id'),\n",
              " (8, 'bike_id'),\n",
              " (9, 'subscription_type'),\n",
              " (10, 'zip_code')]"
            ]
          },
          "execution_count": 15,
          "metadata": {},
          "output_type": "execute_result"
        }
      ],
      "source": [
        "trip_parametr"
      ]
    },
    {
      "cell_type": "code",
      "execution_count": 16,
      "metadata": {
        "id": "85JF4i-ykCyW"
      },
      "outputs": [],
      "source": [
        "def initMT(trips):\n",
        "    class Trip(NamedTuple):\n",
        "        trip_id: int\n",
        "        duration: int\n",
        "        start_date: datetime\n",
        "        start_station_name: str\n",
        "        start_station_id: int\n",
        "        end_date: datetime\n",
        "        end_station_name: str\n",
        "        end_station_id: int\n",
        "        bike_id: int\n",
        "        subscription_type: str\n",
        "        zip_code: str\n",
        "\n",
        "    for trip in trips:\n",
        "        try:\n",
        "            yield Trip(\n",
        "             trip_id = int(trip[0]),\n",
        "             duration = int(trip[1]),\n",
        "             start_date = datetime.strptime(trip[2], '%m/%d/%Y %H:%M'),\n",
        "             start_station_name = trip[3],\n",
        "             start_station_id = int(trip[4]),\n",
        "             end_date = datetime.strptime(trip[5], '%m/%d/%Y %H:%M'),\n",
        "             end_station_name = trip[6],\n",
        "             end_station_id = trip[7],\n",
        "             bike_id = int(trip[8]),\n",
        "             subscription_type = trip[9],\n",
        "             zip_code = trip[10]\n",
        "            )\n",
        "        except:\n",
        "            pass"
      ]
    },
    {
      "cell_type": "code",
      "execution_count": 17,
      "metadata": {
        "colab": {
          "base_uri": "https://localhost:8080/"
        },
        "id": "NiubEWmwkFNh",
        "outputId": "63ea6545-700a-479f-91fc-5c119efb4b79"
      },
      "outputs": [
        {
          "data": {
            "text/plain": [
              "[(0, 'id'),\n",
              " (1, 'name'),\n",
              " (2, 'lat'),\n",
              " (3, 'long'),\n",
              " (4, 'dock_count'),\n",
              " (5, 'city'),\n",
              " (6, 'installation_date')]"
            ]
          },
          "execution_count": 17,
          "metadata": {},
          "output_type": "execute_result"
        }
      ],
      "source": [
        "station_parametr"
      ]
    },
    {
      "cell_type": "markdown",
      "metadata": {
        "id": "8AJiPO7_pveT"
      },
      "source": [
        "Модель для Stantions."
      ]
    },
    {
      "cell_type": "code",
      "execution_count": 18,
      "metadata": {
        "id": "bJESlJppkG2o"
      },
      "outputs": [],
      "source": [
        "def initMS(stations):\n",
        "    class Station(NamedTuple):\n",
        "        station_id: int\n",
        "        name: str\n",
        "        lat: float\n",
        "        long: float\n",
        "        dockcount: int\n",
        "        landmark: str\n",
        "        installation: str\n",
        "\n",
        "    for station in stations:\n",
        "        yield Station(\n",
        "            station_id = int(station[0]),\n",
        "            name = station[1],\n",
        "            lat = float(station[2]),\n",
        "            long = float(station[3]),\n",
        "            dockcount = int(station[4]),\n",
        "            landmark = station[5],\n",
        "            installation = datetime.strptime(station[6], '%m/%d/%Y')\n",
        "        )"
      ]
    },
    {
      "cell_type": "markdown",
      "metadata": {
        "id": "VQEE8I2WkJXG"
      },
      "source": [
        "Применени модели к данным"
      ]
    },
    {
      "cell_type": "code",
      "execution_count": 19,
      "metadata": {
        "colab": {
          "base_uri": "https://localhost:8080/"
        },
        "id": "kPiCUsA6kIyu",
        "outputId": "86edddf5-2440-4753-d153-e5910530a24a"
      },
      "outputs": [
        {
          "data": {
            "text/plain": [
              "[Trip(trip_id=4130, duration=71, start_date=datetime.datetime(2013, 8, 29, 10, 16), start_station_name='Mountain View City Hall', start_station_id=27, end_date=datetime.datetime(2013, 8, 29, 10, 17), end_station_name='Mountain View City Hall', end_station_id='27', bike_id=48, subscription_type='Subscriber', zip_code='97214'),\n",
              " Trip(trip_id=4251, duration=77, start_date=datetime.datetime(2013, 8, 29, 11, 29), start_station_name='San Jose City Hall', start_station_id=10, end_date=datetime.datetime(2013, 8, 29, 11, 30), end_station_name='San Jose City Hall', end_station_id='10', bike_id=26, subscription_type='Subscriber', zip_code='95060'),\n",
              " Trip(trip_id=4299, duration=83, start_date=datetime.datetime(2013, 8, 29, 12, 2), start_station_name='South Van Ness at Market', start_station_id=66, end_date=datetime.datetime(2013, 8, 29, 12, 4), end_station_name='Market at 10th', end_station_id='67', bike_id=319, subscription_type='Subscriber', zip_code='94103')]"
            ]
          },
          "execution_count": 19,
          "metadata": {},
          "output_type": "execute_result"
        }
      ],
      "source": [
        "tripsProcessedByModel = final_trips_data.mapPartitions(initMT)\n",
        "tripsProcessedByModel.take(3)"
      ]
    },
    {
      "cell_type": "code",
      "execution_count": 20,
      "metadata": {
        "colab": {
          "base_uri": "https://localhost:8080/"
        },
        "id": "R8_PJU2ckeyp",
        "outputId": "baad89b4-d540-4988-e91e-525d351398da"
      },
      "outputs": [
        {
          "data": {
            "text/plain": [
              "[Station(station_id=2, name='San Jose Diridon Caltrain Station', lat=37.329732, long=-121.90178200000001, dockcount=27, landmark='San Jose', installation=datetime.datetime(2013, 8, 6, 0, 0)),\n",
              " Station(station_id=3, name='San Jose Civic Center', lat=37.330698, long=-121.888979, dockcount=15, landmark='San Jose', installation=datetime.datetime(2013, 8, 5, 0, 0)),\n",
              " Station(station_id=4, name='Santa Clara at Almaden', lat=37.333988, long=-121.894902, dockcount=11, landmark='San Jose', installation=datetime.datetime(2013, 8, 6, 0, 0))]"
            ]
          },
          "execution_count": 20,
          "metadata": {},
          "output_type": "execute_result"
        }
      ],
      "source": [
        "stationsProcessedByModel = final_stations_data.mapPartitions(initMS)\n",
        "stationsProcessedByModel.take(3)"
      ]
    },
    {
      "cell_type": "markdown",
      "metadata": {
        "id": "pdwPr7vDkjBt"
      },
      "source": [
        "## 4. Задания"
      ]
    },
    {
      "cell_type": "markdown",
      "metadata": {
        "id": "Wr0LGpNRlAEo"
      },
      "source": [
        "### Задание 1. Найти велосипед с максимальным временем пробега."
      ]
    },
    {
      "cell_type": "code",
      "execution_count": 21,
      "metadata": {
        "colab": {
          "base_uri": "https://localhost:8080/"
        },
        "id": "dPXHY4M2ktmY",
        "outputId": "7d6b1ce9-55a2-408f-a15d-afcef4f94ee5"
      },
      "outputs": [
        {
          "data": {
            "text/plain": [
              "535"
            ]
          },
          "execution_count": 21,
          "metadata": {},
          "output_type": "execute_result"
        }
      ],
      "source": [
        "tripMapWithBicycle = tripsProcessedByModel.keyBy(lambda x: x.bike_id)\n",
        "durationBicycleMap = tripMapWithBicycle.mapValues(lambda x: x.duration).reduceByKey(lambda x1, x2: x1 + x2)\n",
        "topOfDurationBicycleMap = durationBicycleMap.top(1, key=lambda x: x[1])[0][0]\n",
        "topOfDurationBicycleMap"
      ]
    },
    {
      "cell_type": "markdown",
      "metadata": {
        "id": "foqQ3s08k8Ln"
      },
      "source": [
        "### Задание 2. Найти наибольшее геодезическое расстояние между станциями."
      ]
    },
    {
      "cell_type": "code",
      "execution_count": 22,
      "metadata": {
        "colab": {
          "base_uri": "https://localhost:8080/"
        },
        "id": "6aSsSLsHkvOW",
        "outputId": "acd9d3da-a5ca-4bc8-a6ea-c32310087e24"
      },
      "outputs": [
        {
          "name": "stdout",
          "output_type": "stream",
          "text": [
            "Максимальное расстояние между станциями: ('SJSU - San Salvador at 9th', 'Embarcadero at Sansome'), 69.92062162445784 км.\n"
          ]
        }
      ],
      "source": [
        "from math import radians, sin, cos, sqrt\n",
        "\n",
        "def calculate_distance(lat1, lon1, lat2, lon2):\n",
        "    earth_radius = 6371.0088\n",
        "\n",
        "    lat1, lon1 = radians(lat1), radians(lon1)\n",
        "    lat2, lon2 = radians(lat2), radians(lon2)\n",
        "\n",
        "    diff_lat = lat2 - lat1\n",
        "    diff_lon = lon2 - lon1\n",
        "\n",
        "    hav_lat = sin(diff_lat / 2) ** 2\n",
        "    hav_lon = sin(diff_lon / 2) ** 2\n",
        "\n",
        "    h = hav_lat + cos(lat1) * cos(lat2) * hav_lon\n",
        "\n",
        "    distance = 2 * earth_radius * sqrt(h)\n",
        "    return distance\n",
        "\n",
        "# Создаем пары станций с расстояниями между ними\n",
        "station_pairs = stationsProcessedByModel.cartesian(stationsProcessedByModel) \\\n",
        "    .filter(lambda x: x[0].station_id != x[1].station_id) \\\n",
        "    .map(lambda x: (x[0], x[1], calculate_distance(x[0].lat, x[0].long, x[1].lat, x[1].long)))\n",
        "\n",
        "# Находим пару станций с максимальным расстоянием\n",
        "max_distance_pair = station_pairs.max(key=lambda x: x[2])\n",
        "\n",
        "way_between_stations = (max_distance_pair[0].name, max_distance_pair[1].name)\n",
        "kilometers_between_stations = max_distance_pair[2]\n",
        "\n",
        "print(f\"Максимальное расстояние между станциями: {way_between_stations}, {kilometers_between_stations} км.\")"
      ]
    },
    {
      "cell_type": "markdown",
      "metadata": {
        "id": "n1coQPONlfGW"
      },
      "source": [
        "### Задание 3. Найти путь велосипеда с максимальным временем пробега через станции."
      ]
    },
    {
      "cell_type": "code",
      "execution_count": 23,
      "metadata": {
        "colab": {
          "base_uri": "https://localhost:8080/"
        },
        "id": "QspqRrYmlh6z",
        "outputId": "b898668c-7a8f-43ac-c4bc-9897d7759e48"
      },
      "outputs": [
        {
          "data": {
            "text/plain": [
              "[('Post at Kearney', 'San Francisco Caltrain (Townsend at 4th)')]"
            ]
          },
          "execution_count": 23,
          "metadata": {},
          "output_type": "execute_result"
        }
      ],
      "source": [
        "wayBicycleWithMaxDuration = tripsProcessedByModel.filter(lambda x: x.bike_id == topOfDurationBicycleMap)\\\n",
        ".sortBy(lambda x: x.start_date).map(lambda x: (x.start_station_name, x.end_station_name))\n",
        "wayBicycleWithMaxDuration.take(1)"
      ]
    },
    {
      "cell_type": "markdown",
      "metadata": {
        "id": "V5YKYOVmlkcj"
      },
      "source": [
        "### Задание 4. Найти количество велосипедов в системе."
      ]
    },
    {
      "cell_type": "code",
      "execution_count": 24,
      "metadata": {
        "colab": {
          "base_uri": "https://localhost:8080/"
        },
        "id": "6oUZQjQ0lo_b",
        "outputId": "da7cde77-38a5-47b6-f128-c4d1628b0634"
      },
      "outputs": [
        {
          "data": {
            "text/plain": [
              "700"
            ]
          },
          "execution_count": 24,
          "metadata": {},
          "output_type": "execute_result"
        }
      ],
      "source": [
        "countOfBicycle = tripsProcessedByModel.map(lambda x: x.bike_id).distinct().count()\n",
        "countOfBicycle"
      ]
    },
    {
      "cell_type": "markdown",
      "metadata": {
        "id": "CzVSRnzAltQg"
      },
      "source": [
        "### Задание 5. Найти пользователей потративших на поездки более 3 часов."
      ]
    },
    {
      "cell_type": "code",
      "execution_count": 25,
      "metadata": {
        "colab": {
          "base_uri": "https://localhost:8080/"
        },
        "id": "W0vNchi4lsHn",
        "outputId": "eab2f6e1-02eb-457a-f48b-6c2a82549f82"
      },
      "outputs": [
        {
          "name": "stdout",
          "output_type": "stream",
          "text": [
            "5 пользователей потративших на поездки более 3 часов:  ['58553', '94301', '94039', '94133', '93726']\n"
          ]
        }
      ],
      "source": [
        "threeHours = 3*60*60\n",
        "usersOfBicycle = tripsProcessedByModel.filter(lambda x: x.duration > threeHours)\\\n",
        ".map(lambda x: x.zip_code).filter(lambda x: x != \"\").distinct()\n",
        "print('5 пользователей потративших на поездки более 3 часов: ', usersOfBicycle.take(5))"
      ]
    }
  ],
  "metadata": {
    "colab": {
      "provenance": []
    },
    "kernelspec": {
      "display_name": "Python 3",
      "name": "python3"
    },
    "language_info": {
      "name": "python"
    }
  },
  "nbformat": 4,
  "nbformat_minor": 0
}
