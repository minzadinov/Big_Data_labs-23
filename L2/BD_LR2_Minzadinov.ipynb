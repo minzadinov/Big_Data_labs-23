{
  "cells": [
    {
      "cell_type": "markdown",
      "metadata": {
        "id": "view-in-github"
      },
      "source": [
        "<a href=\"https://colab.research.google.com/drive/1dUUN8StWSvQiVKF_4GzrmVuh6f1EeBCG#scrollTo=8AoNDCXvlgYe\" target=\"_parent\"><img src=\"https://colab.research.google.com/assets/colab-badge.svg\" alt=\"Open In Colab\"/></a>"
      ]
    },
    {
      "cell_type": "markdown",
      "metadata": {
        "id": "8AoNDCXvlgYe"
      },
      "source": [
        "# Минзадинов Ислам гр 6133"
      ]
    },
    {
      "cell_type": "markdown",
      "metadata": {
        "id": "Y-D-bmvPloYX"
      },
      "source": [
        "## Задание на Лабораторную работу №2"
      ]
    },
    {
      "cell_type": "markdown",
      "metadata": {
        "id": "48bAmDWil0TW"
      },
      "source": [
        "\n",
        "1. Сформировать отчёт с информацией о 10 наиболее популярных языках программирования по итогам года за период с 2010 по 2020 годы. Отчёт будет отражать динамику изменения популярности языков программирования и представлять собой набор таблиц \"топ-10\" для каждого года.\n",
        "\n",
        "2. Получившийся отчёт сохранить в формате Apache Parquet."
      ]
    },
    {
      "cell_type": "markdown",
      "metadata": {
        "id": "1J_pxd-rl8G-"
      },
      "source": [
        "### 1. Настройка окружения"
      ]
    },
    {
      "cell_type": "code",
      "execution_count": 1,
      "metadata": {
        "colab": {
          "base_uri": "https://localhost:8080/"
        },
        "id": "I3GF_olsfb8R",
        "outputId": "941f7411-e41b-4393-858c-97624a4a2bfe"
      },
      "outputs": [
        {
          "name": "stdout",
          "output_type": "stream",
          "text": [
            "Collecting pyspark\n",
            "  Downloading pyspark-3.5.0.tar.gz (316.9 MB)\n",
            "\u001b[2K     \u001b[90m━━━━━━━━━━━━━━━━━━━━━━━━━━━━━━━━━━━━━━━━\u001b[0m \u001b[32m316.9/316.9 MB\u001b[0m \u001b[31m2.9 MB/s\u001b[0m eta \u001b[36m0:00:00\u001b[0m\n",
            "\u001b[?25h  Preparing metadata (setup.py) ... \u001b[?25l\u001b[?25hdone\n",
            "Requirement already satisfied: py4j==0.10.9.7 in /usr/local/lib/python3.10/dist-packages (from pyspark) (0.10.9.7)\n",
            "Building wheels for collected packages: pyspark\n",
            "  Building wheel for pyspark (setup.py) ... \u001b[?25l\u001b[?25hdone\n",
            "  Created wheel for pyspark: filename=pyspark-3.5.0-py2.py3-none-any.whl size=317425345 sha256=fa92815cbf53c80f0e1e3aaf329554a82d844619260db50b0e425058d5ecd35f\n",
            "  Stored in directory: /root/.cache/pip/wheels/41/4e/10/c2cf2467f71c678cfc8a6b9ac9241e5e44a01940da8fbb17fc\n",
            "Successfully built pyspark\n",
            "Installing collected packages: pyspark\n",
            "Successfully installed pyspark-3.5.0\n"
          ]
        }
      ],
      "source": [
        "# устанавливаю pyspark\n",
        "!pip install pyspark"
      ]
    },
    {
      "cell_type": "code",
      "execution_count": 2,
      "metadata": {
        "colab": {
          "base_uri": "https://localhost:8080/"
        },
        "id": "5rlX53O2nQpl",
        "outputId": "4912fe4e-9f33-41bc-e61c-3151a713af1a"
      },
      "outputs": [
        {
          "name": "stdout",
          "output_type": "stream",
          "text": [
            "Mounted at /content/drive\n"
          ]
        }
      ],
      "source": [
        "# Добавляю гугл диск с данными\n",
        "from google.colab import drive\n",
        "drive.mount('/content/drive')"
      ]
    },
    {
      "cell_type": "code",
      "execution_count": 3,
      "metadata": {
        "id": "1hWEMt_8mMyM"
      },
      "outputs": [],
      "source": [
        "import pyspark\n",
        "import os\n",
        "from datetime import datetime\n",
        "from pyspark.sql.functions import col\n",
        "from pyspark.sql import SparkSession\n",
        "from pyspark import SparkContext, SparkConf\n",
        "from pyspark.sql.types import StructType, StructField, StringType, DateType"
      ]
    },
    {
      "cell_type": "markdown",
      "metadata": {
        "id": "MJOWdb8amWle"
      },
      "source": [
        "### 2. Создаю проект и проверяю его работо способность"
      ]
    },
    {
      "cell_type": "code",
      "execution_count": 4,
      "metadata": {
        "colab": {
          "base_uri": "https://localhost:8080/",
          "height": 219
        },
        "id": "1mWMD0wrmSXX",
        "outputId": "66062e4a-d5e1-4613-d149-2458131af832"
      },
      "outputs": [
        {
          "data": {
            "text/html": [
              "\n",
              "            <div>\n",
              "                <p><b>SparkSession - in-memory</b></p>\n",
              "                \n",
              "        <div>\n",
              "            <p><b>SparkContext</b></p>\n",
              "\n",
              "            <p><a href=\"http://d76e79bd40dc:4040\">Spark UI</a></p>\n",
              "\n",
              "            <dl>\n",
              "              <dt>Version</dt>\n",
              "                <dd><code>v3.5.0</code></dd>\n",
              "              <dt>Master</dt>\n",
              "                <dd><code>local[*]</code></dd>\n",
              "              <dt>AppName</dt>\n",
              "                <dd><code>L2ApacheReports</code></dd>\n",
              "            </dl>\n",
              "        </div>\n",
              "        \n",
              "            </div>\n",
              "        "
            ],
            "text/plain": [
              "<pyspark.sql.session.SparkSession at 0x7bdd72560fa0>"
            ]
          },
          "execution_count": 4,
          "metadata": {},
          "output_type": "execute_result"
        }
      ],
      "source": [
        "# Создание точки конфигурации\n",
        "os.environ['PYSPARK_SUBMIT_ARGS'] = '--packages com.databricks:spark-xml_2.12:0.13.0 pyspark-shell'\n",
        "sc = SparkSession.builder.appName(\"L2ApacheReports\").master(\"local[*]\").getOrCreate()\n",
        "sc"
      ]
    },
    {
      "cell_type": "markdown",
      "metadata": {
        "id": "uDFgvHfanITI"
      },
      "source": [
        "### 3. Загрузка данных"
      ]
    },
    {
      "cell_type": "code",
      "execution_count": 5,
      "metadata": {
        "id": "DDH1uwVWmua_"
      },
      "outputs": [],
      "source": [
        "listProgLanguages = sc.read.csv(\"/content/drive/MyDrive/BigData/L2/programming-languages.csv\")"
      ]
    },
    {
      "cell_type": "markdown",
      "metadata": {
        "id": "0_6GUvN6eNT3"
      },
      "source": [
        "Получим список языков"
      ]
    },
    {
      "cell_type": "code",
      "execution_count": 6,
      "metadata": {
        "colab": {
          "base_uri": "https://localhost:8080/"
        },
        "id": "ZCDWxO1KnLJn",
        "outputId": "64df4021-b9b2-4433-c96b-4cca931cd9c9"
      },
      "outputs": [
        {
          "data": {
            "text/plain": [
              "['name', 'A# .NET', 'A# (Axiom)', 'A-0 System', 'A+']"
            ]
          },
          "execution_count": 6,
          "metadata": {},
          "output_type": "execute_result"
        }
      ],
      "source": [
        "languageList = [str(x[0]) for x in listProgLanguages.collect()]\n",
        "languageList[:5]"
      ]
    },
    {
      "cell_type": "markdown",
      "metadata": {
        "id": "1ZH1gJBKec5Y"
      },
      "source": [
        "Удалим первый элемент `name`"
      ]
    },
    {
      "cell_type": "code",
      "execution_count": 7,
      "metadata": {
        "colab": {
          "base_uri": "https://localhost:8080/",
          "height": 35
        },
        "id": "LsieExDwnPYN",
        "outputId": "93a5cd5a-136a-430f-a951-a9963fd1abb3"
      },
      "outputs": [
        {
          "data": {
            "application/vnd.google.colaboratory.intrinsic+json": {
              "type": "string"
            },
            "text/plain": [
              "'name'"
            ]
          },
          "execution_count": 7,
          "metadata": {},
          "output_type": "execute_result"
        }
      ],
      "source": [
        "languageList.pop(0)"
      ]
    },
    {
      "cell_type": "code",
      "execution_count": 8,
      "metadata": {
        "colab": {
          "base_uri": "https://localhost:8080/"
        },
        "id": "zv4LZO7RnTk_",
        "outputId": "5e9dc06c-7975-4a95-ce3d-313188fa2f41"
      },
      "outputs": [
        {
          "data": {
            "text/plain": [
              "['A# .NET', 'A# (Axiom)', 'A-0 System', 'A+', 'A++']"
            ]
          },
          "execution_count": 8,
          "metadata": {},
          "output_type": "execute_result"
        }
      ],
      "source": [
        "languageList[:5]"
      ]
    },
    {
      "cell_type": "code",
      "execution_count": 10,
      "metadata": {
        "id": "AkA65kG2GU15"
      },
      "outputs": [],
      "source": [
        "postsSampleData = sc.read.format(\"xml\").options(rowTag=\"row\").load('/content/drive/MyDrive/BigData/L2/posts_sample.xml')"
      ]
    },
    {
      "cell_type": "code",
      "execution_count": 11,
      "metadata": {
        "colab": {
          "base_uri": "https://localhost:8080/"
        },
        "id": "yInwCmzBGXkB",
        "outputId": "8f1092f8-43c9-44fb-81d3-95e7569399ab"
      },
      "outputs": [
        {
          "data": {
            "text/plain": [
              "[Row(_AcceptedAnswerId=7, _AnswerCount=13, _Body=\"<p>I want to use a track-bar to change a form's opacity.</p>\\n\\n<p>This is my code:</p>\\n\\n<pre><code>decimal trans = trackBar1.Value / 5000;\\nthis.Opacity = trans;\\n</code></pre>\\n\\n<p>When I build the application, it gives the following error:</p>\\n\\n<blockquote>\\n  <p>Cannot implicitly convert type <code>'decimal'</code> to <code>'double'</code></p>\\n</blockquote>\\n\\n<p>I tried using <code>trans</code> and <code>double</code> but then the control doesn't work. This code worked fine in a past VB.NET project.</p>\\n\", _ClosedDate=None, _CommentCount=2, _CommunityOwnedDate=datetime.datetime(2012, 10, 31, 16, 42, 47, 213000), _CreationDate=datetime.datetime(2008, 7, 31, 21, 42, 52, 667000), _FavoriteCount=48, _Id=4, _LastActivityDate=datetime.datetime(2019, 7, 19, 1, 39, 54, 173000), _LastEditDate=datetime.datetime(2019, 7, 19, 1, 39, 54, 173000), _LastEditorDisplayName='Rich B', _LastEditorUserId=3641067, _OwnerDisplayName=None, _OwnerUserId=8, _ParentId=None, _PostTypeId=1, _Score=630, _Tags='<c#><floating-point><type-conversion><double><decimal>', _Title='Convert Decimal to Double?', _ViewCount=42817)]"
            ]
          },
          "execution_count": 11,
          "metadata": {},
          "output_type": "execute_result"
        }
      ],
      "source": [
        "postsSampleData.take(1)"
      ]
    },
    {
      "cell_type": "markdown",
      "metadata": {
        "id": "umQbkHFfqIiF"
      },
      "source": [
        "## Задание 1. Формирование отчетов."
      ]
    },
    {
      "cell_type": "markdown",
      "metadata": {
        "id": "GAwFu6HjsORa"
      },
      "source": [
        "Функция фильтрации ЯП"
      ]
    },
    {
      "cell_type": "code",
      "execution_count": 12,
      "metadata": {
        "id": "hJvo5dQZnY8m"
      },
      "outputs": [],
      "source": [
        "def detectionProgLanguage(x):\n",
        "    tag = next((language for language in languageList if \"<\" + language.lower() + \">\" in x._Tags.lower()), None)\n",
        "    return None if tag is None else (x._Id, tag)"
      ]
    },
    {
      "cell_type": "markdown",
      "metadata": {
        "id": "zYD-L4C6rJLe"
      },
      "source": [
        "Реализуем функцию фильтрации по датам для получения списков топа по годам."
      ]
    },
    {
      "cell_type": "code",
      "execution_count": 13,
      "metadata": {
        "id": "Fd3i3_-3ncFY"
      },
      "outputs": [],
      "source": [
        "def detectionYear(x, year):\n",
        "    start = datetime(year=year, month=1, day=1)\n",
        "    end = datetime(year=year, month=12, day=31)\n",
        "    return start <= x._CreationDate <= end"
      ]
    },
    {
      "cell_type": "code",
      "execution_count": 14,
      "metadata": {
        "id": "as5D-fMbnef_"
      },
      "outputs": [],
      "source": [
        "from pyspark.sql import functions as F\n",
        "\n",
        "selection_prog_language = {}\n",
        "years = range(2010, 2020)\n",
        "\n",
        "for year in years:\n",
        "    selection_prog_language[year] = (\n",
        "        postsSampleData.rdd\n",
        "        .filter(lambda x: x._Tags is not None and detectionYear(x, year))\n",
        "        .map(detectionProgLanguage)\n",
        "        .filter(lambda x: x is not None)\n",
        "        .keyBy(lambda x: x[1])\n",
        "        .aggregateByKey(0, lambda x, y: x + 1, lambda x1, x2: x1 + x2)\n",
        "        .sortBy(lambda x: x[1], ascending=False)\n",
        "        .toDF()\n",
        "    )\n",
        "    selection_prog_language[year] = (\n",
        "        selection_prog_language[year]\n",
        "        .select(F.col(\"_1\").alias(\"Programming_language\"), F.col(\"_2\").alias(f\"Number_of_mentions_in_{year}\"))\n",
        "        .limit(10)\n",
        "    )"
      ]
    },
    {
      "cell_type": "markdown",
      "metadata": {
        "id": "ZrjABTOCp_80"
      },
      "source": [
        "Выведем отчеты"
      ]
    },
    {
      "cell_type": "code",
      "execution_count": 18,
      "metadata": {
        "colab": {
          "base_uri": "https://localhost:8080/"
        },
        "id": "36wEmyA-njTX",
        "outputId": "abb906de-df2a-4e82-c08a-ba68ee257ac5"
      },
      "outputs": [
        {
          "name": "stdout",
          "output_type": "stream",
          "text": [
            "+--------------------+--------------------------+\n",
            "|Programming_language|Number_of_mentions_in_2010|\n",
            "+--------------------+--------------------------+\n",
            "|                Java|                        52|\n",
            "|          JavaScript|                        44|\n",
            "|                 PHP|                        42|\n",
            "|              Python|                        25|\n",
            "|         Objective-C|                        22|\n",
            "|                   C|                        20|\n",
            "|                Ruby|                        11|\n",
            "|              Delphi|                         7|\n",
            "|                   R|                         3|\n",
            "|                Bash|                         3|\n",
            "+--------------------+--------------------------+\n",
            "\n",
            "+--------------------+--------------------------+\n",
            "|Programming_language|Number_of_mentions_in_2011|\n",
            "+--------------------+--------------------------+\n",
            "|                 PHP|                        97|\n",
            "|                Java|                        92|\n",
            "|          JavaScript|                        82|\n",
            "|              Python|                        35|\n",
            "|         Objective-C|                        33|\n",
            "|                   C|                        24|\n",
            "|                Ruby|                        17|\n",
            "|              Delphi|                         8|\n",
            "|                Perl|                         8|\n",
            "|                Bash|                         7|\n",
            "+--------------------+--------------------------+\n",
            "\n",
            "+--------------------+--------------------------+\n",
            "|Programming_language|Number_of_mentions_in_2012|\n",
            "+--------------------+--------------------------+\n",
            "|                 PHP|                       136|\n",
            "|          JavaScript|                       129|\n",
            "|                Java|                       124|\n",
            "|              Python|                        65|\n",
            "|         Objective-C|                        45|\n",
            "|                   C|                        27|\n",
            "|                Ruby|                        25|\n",
            "|                Bash|                         9|\n",
            "|                   R|                         9|\n",
            "|              MATLAB|                         6|\n",
            "+--------------------+--------------------------+\n",
            "\n",
            "+--------------------+--------------------------+\n",
            "|Programming_language|Number_of_mentions_in_2013|\n",
            "+--------------------+--------------------------+\n",
            "|          JavaScript|                       196|\n",
            "|                Java|                       191|\n",
            "|                 PHP|                       173|\n",
            "|              Python|                        87|\n",
            "|         Objective-C|                        40|\n",
            "|                   C|                        36|\n",
            "|                Ruby|                        30|\n",
            "|                   R|                        25|\n",
            "|                Bash|                        11|\n",
            "|               Scala|                        10|\n",
            "+--------------------+--------------------------+\n",
            "\n",
            "+--------------------+--------------------------+\n",
            "|Programming_language|Number_of_mentions_in_2014|\n",
            "+--------------------+--------------------------+\n",
            "|          JavaScript|                       235|\n",
            "|                Java|                       228|\n",
            "|                 PHP|                       154|\n",
            "|              Python|                       103|\n",
            "|                   C|                        52|\n",
            "|         Objective-C|                        49|\n",
            "|                   R|                        28|\n",
            "|                Ruby|                        20|\n",
            "|              MATLAB|                        16|\n",
            "|                Bash|                        13|\n",
            "+--------------------+--------------------------+\n",
            "\n",
            "+--------------------+--------------------------+\n",
            "|Programming_language|Number_of_mentions_in_2015|\n",
            "+--------------------+--------------------------+\n",
            "|          JavaScript|                       270|\n",
            "|                Java|                       208|\n",
            "|                 PHP|                       147|\n",
            "|              Python|                       119|\n",
            "|                   R|                        43|\n",
            "|                   C|                        38|\n",
            "|         Objective-C|                        30|\n",
            "|                Ruby|                        20|\n",
            "|              MATLAB|                        16|\n",
            "|               Scala|                        13|\n",
            "+--------------------+--------------------------+\n",
            "\n",
            "+--------------------+--------------------------+\n",
            "|Programming_language|Number_of_mentions_in_2016|\n",
            "+--------------------+--------------------------+\n",
            "|          JavaScript|                       271|\n",
            "|                Java|                       178|\n",
            "|              Python|                       140|\n",
            "|                 PHP|                       126|\n",
            "|                   R|                        50|\n",
            "|                   C|                        32|\n",
            "|                Ruby|                        21|\n",
            "|                Bash|                        16|\n",
            "|               Scala|                        16|\n",
            "|              MATLAB|                        15|\n",
            "+--------------------+--------------------------+\n",
            "\n",
            "+--------------------+--------------------------+\n",
            "|Programming_language|Number_of_mentions_in_2017|\n",
            "+--------------------+--------------------------+\n",
            "|          JavaScript|                       244|\n",
            "|                Java|                       204|\n",
            "|              Python|                       185|\n",
            "|                 PHP|                       122|\n",
            "|                   R|                        53|\n",
            "|                   C|                        24|\n",
            "|         Objective-C|                        19|\n",
            "|                Ruby|                        16|\n",
            "|          TypeScript|                        14|\n",
            "|          PowerShell|                        14|\n",
            "+--------------------+--------------------------+\n",
            "\n",
            "+--------------------+--------------------------+\n",
            "|Programming_language|Number_of_mentions_in_2018|\n",
            "+--------------------+--------------------------+\n",
            "|              Python|                       214|\n",
            "|          JavaScript|                       194|\n",
            "|                Java|                       145|\n",
            "|                 PHP|                        99|\n",
            "|                   R|                        63|\n",
            "|                   C|                        24|\n",
            "|               Scala|                        22|\n",
            "|          TypeScript|                        21|\n",
            "|          PowerShell|                        13|\n",
            "|                Bash|                        12|\n",
            "+--------------------+--------------------------+\n",
            "\n",
            "+--------------------+--------------------------+\n",
            "|Programming_language|Number_of_mentions_in_2019|\n",
            "+--------------------+--------------------------+\n",
            "|              Python|                       162|\n",
            "|          JavaScript|                       131|\n",
            "|                Java|                        95|\n",
            "|                 PHP|                        59|\n",
            "|                   R|                        36|\n",
            "|                   C|                        14|\n",
            "|                  Go|                         9|\n",
            "|              MATLAB|                         9|\n",
            "|                Dart|                         9|\n",
            "|                Bash|                         8|\n",
            "+--------------------+--------------------------+\n",
            "\n"
          ]
        }
      ],
      "source": [
        "for year in range(2010, 2020):\n",
        "  selection_prog_language[year].show()"
      ]
    },
    {
      "cell_type": "markdown",
      "metadata": {
        "id": "4M-YtJfjpj9V"
      },
      "source": [
        "## Задание 2. Сохранение отчетов."
      ]
    },
    {
      "cell_type": "code",
      "execution_count": 17,
      "metadata": {
        "colab": {
          "base_uri": "https://localhost:8080/"
        },
        "id": "nisL88eInls1",
        "outputId": "55fe38d2-f598-4bb2-e35f-53ca789f96d9"
      },
      "outputs": [
        {
          "name": "stdout",
          "output_type": "stream",
          "text": [
            "Сохранено в файл /content/drive/MyDrive/BigData/L2/top_2010.\n",
            "Сохранено в файл /content/drive/MyDrive/BigData/L2/top_2011.\n",
            "Сохранено в файл /content/drive/MyDrive/BigData/L2/top_2012.\n",
            "Сохранено в файл /content/drive/MyDrive/BigData/L2/top_2013.\n",
            "Сохранено в файл /content/drive/MyDrive/BigData/L2/top_2014.\n",
            "Сохранено в файл /content/drive/MyDrive/BigData/L2/top_2015.\n",
            "Сохранено в файл /content/drive/MyDrive/BigData/L2/top_2016.\n",
            "Сохранено в файл /content/drive/MyDrive/BigData/L2/top_2017.\n",
            "Сохранено в файл /content/drive/MyDrive/BigData/L2/top_2018.\n",
            "Сохранено в файл /content/drive/MyDrive/BigData/L2/top_2019.\n"
          ]
        }
      ],
      "source": [
        "for year in selection_prog_language.keys():\n",
        "    save_path = f\"/content/drive/MyDrive/BigData/L2/top_{year}\"\n",
        "\n",
        "    if os.path.exists(save_path):\n",
        "        print(f\"Файл {save_path} уже существует.\")\n",
        "    else:\n",
        "        selection_prog_language[year].write.format(\"parquet\").save(save_path)\n",
        "        print(f\"Сохранено в файл {save_path}.\")"
      ]
    }
  ],
  "metadata": {
    "colab": {
      "provenance": []
    },
    "kernelspec": {
      "display_name": "Python 3",
      "name": "python3"
    },
    "language_info": {
      "name": "python"
    }
  },
  "nbformat": 4,
  "nbformat_minor": 0
}
